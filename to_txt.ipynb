{
 "cells": [
  {
   "cell_type": "code",
   "execution_count": 1,
   "id": "02db16a1-04d4-4ccb-a83d-252eb95a1d62",
   "metadata": {},
   "outputs": [],
   "source": [
    "import pdfplumber\n",
    "import os\n",
    "import json"
   ]
  },
  {
   "cell_type": "code",
   "execution_count": 3,
   "id": "e7d01446-550a-4b88-a8b7-db5ee90a1c74",
   "metadata": {},
   "outputs": [],
   "source": [
    "arquivo_pdf = \"pdfs/bechara.pdf\"\n",
    "\n",
    "with pdfplumber.open(arquivo_pdf) as pdf:\n",
    "    texto_total = \"\"\n",
    "    for pagina in pdf.pages:\n",
    "        texto_total += pagina.extract_text()\n",
    "\n",
    "with open(\"txts/arquivo_convertido2.txt\", \"w\", encoding=\"utf-8\") as txt_file:\n",
    "    txt_file.write(texto_total)"
   ]
  },
  {
   "cell_type": "code",
   "execution_count": null,
   "id": "69601a9b-6dec-457e-bae4-45fd5b99a955",
   "metadata": {},
   "outputs": [],
   "source": []
  }
 ],
 "metadata": {
  "kernelspec": {
   "display_name": "Python 3 (ipykernel)",
   "language": "python",
   "name": "python3"
  },
  "language_info": {
   "codemirror_mode": {
    "name": "ipython",
    "version": 3
   },
   "file_extension": ".py",
   "mimetype": "text/x-python",
   "name": "python",
   "nbconvert_exporter": "python",
   "pygments_lexer": "ipython3",
   "version": "3.11.2"
  }
 },
 "nbformat": 4,
 "nbformat_minor": 5
}
